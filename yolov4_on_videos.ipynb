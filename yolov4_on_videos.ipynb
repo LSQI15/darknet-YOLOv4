{
  "nbformat": 4,
  "nbformat_minor": 0,
  "metadata": {
    "colab": {
      "name": "yolov4_on_videos.ipynb",
      "provenance": [],
      "collapsed_sections": []
    },
    "kernelspec": {
      "name": "python3",
      "display_name": "Python 3"
    },
    "accelerator": "GPU"
  },
  "cells": [
    {
      "cell_type": "code",
      "metadata": {
        "id": "cRjNtIouSOWP",
        "colab_type": "code",
        "colab": {}
      },
      "source": [
        "# check GPU\n",
        "%tensorflow_version 2.x\n",
        "import tensorflow as tf\n",
        "device_name = tf.test.gpu_device_name()\n",
        "if device_name != '/device:GPU:0':\n",
        "  raise SystemError('GPU device not found')\n",
        "print('Found GPU at: {}'.format(device_name))\n",
        "\n",
        "# connect to your google drive\n",
        "from google.colab import drive\n",
        "from pathlib import Path\n",
        "drive.mount('/content/gdrive', force_remount=True)\n",
        "root_dir = \"/content/gdrive/My Drive/\"\n",
        "base_dir = root_dir + 'yolov4/'\n",
        "path = Path(base_dir + 'deploy_yolov4_on_video')\n",
        "dest = path\n",
        "dest.mkdir(parents=True, exist_ok=True)"
      ],
      "execution_count": 13,
      "outputs": []
    },
    {
      "cell_type": "code",
      "metadata": {
        "id": "tjOfv9eESr-2",
        "colab_type": "code",
        "colab": {}
      },
      "source": [
        "# clone the darknet repo\n",
        "!git clone https://github.com/AlexeyAB/darknet"
      ],
      "execution_count": 12,
      "outputs": []
    },
    {
      "cell_type": "code",
      "metadata": {
        "id": "Mfwcxom9TApx",
        "colab_type": "code",
        "colab": {}
      },
      "source": [
        "# change makefile to have GPU and OPENCV enabled\n",
        "%cd darknet\n",
        "!sed -i 's/OPENCV=0/OPENCV=1/' Makefile\n",
        "!sed -i 's/GPU=0/GPU=1/' Makefile\n",
        "!sed -i 's/CUDNN=0/CUDNN=1/' Makefile\n",
        "!sed -i 's/CUDNN_HALF=0/CUDNN_HALF=1/' Makefile"
      ],
      "execution_count": 11,
      "outputs": []
    },
    {
      "cell_type": "code",
      "metadata": {
        "id": "CcU5ST_rTH0M",
        "colab_type": "code",
        "colab": {}
      },
      "source": [
        "# verify CUDA\n",
        "!/usr/local/cuda/bin/nvcc --version"
      ],
      "execution_count": 10,
      "outputs": []
    },
    {
      "cell_type": "code",
      "metadata": {
        "id": "gE-W8EpUTLWO",
        "colab_type": "code",
        "colab": {}
      },
      "source": [
        "# make darknet (builds darknet so that you can then use the darknet executable file to run or train object detectors)\n",
        "!make"
      ],
      "execution_count": 9,
      "outputs": []
    },
    {
      "cell_type": "code",
      "metadata": {
        "id": "6ZqT_qqZTNvv",
        "colab_type": "code",
        "colab": {}
      },
      "source": [
        "#download pre-trained weights\n",
        "!wget https://github.com/AlexeyAB/darknet/releases/download/darknet_yolo_v3_optimal/yolov4.weights"
      ],
      "execution_count": 8,
      "outputs": []
    },
    {
      "cell_type": "code",
      "metadata": {
        "id": "YxScUtPvTxxh",
        "colab_type": "code",
        "colab": {}
      },
      "source": [
        "# define helper functions\n",
        "def imShow(path):\n",
        "  import cv2\n",
        "  import matplotlib.pyplot as plt\n",
        "  %matplotlib inline\n",
        "\n",
        "  image = cv2.imread(path)\n",
        "  height, width = image.shape[:2]\n",
        "  resized_image = cv2.resize(image,(3*width, 3*height), interpolation = cv2.INTER_CUBIC)\n",
        "\n",
        "  fig = plt.gcf()\n",
        "  fig.set_size_inches(18, 10)\n",
        "  plt.axis(\"off\")\n",
        "  plt.imshow(cv2.cvtColor(resized_image, cv2.COLOR_BGR2RGB))\n",
        "  plt.show()\n",
        "\n",
        "# use this to upload files\n",
        "def upload():\n",
        "  from google.colab import files\n",
        "  uploaded = files.upload() \n",
        "  for name, data in uploaded.items():\n",
        "    with open(name, 'wb') as f:\n",
        "      f.write(data)\n",
        "      print ('saved file', name)\n",
        "\n",
        "# use this to download a file  \n",
        "def download(path):\n",
        "  from google.colab import files\n",
        "  files.download(path)"
      ],
      "execution_count": null,
      "outputs": []
    },
    {
      "cell_type": "code",
      "metadata": {
        "id": "mdO481N9-un4",
        "colab_type": "code",
        "colab": {}
      },
      "source": [
        "# upload video here\n",
        "upload()"
      ],
      "execution_count": 2,
      "outputs": []
    },
    {
      "cell_type": "code",
      "metadata": {
        "id": "YB_TXuHLG4Mw",
        "colab_type": "code",
        "colab": {}
      },
      "source": [
        "# upload config file here\n",
        "upload()"
      ],
      "execution_count": 3,
      "outputs": []
    },
    {
      "cell_type": "code",
      "metadata": {
        "id": "AmfEcK1KHmv_",
        "colab_type": "code",
        "colab": {}
      },
      "source": [
        "# upload YOLO weight here\n",
        "upload()"
      ],
      "execution_count": 4,
      "outputs": []
    },
    {
      "cell_type": "code",
      "metadata": {
        "id": "psrj-4Wh5B2x",
        "colab_type": "code",
        "colab": {}
      },
      "source": [
        "# upload obj.name here\n",
        "upload()"
      ],
      "execution_count": 5,
      "outputs": []
    },
    {
      "cell_type": "code",
      "metadata": {
        "id": "YffOissCH-QB",
        "colab_type": "code",
        "colab": {
          "base_uri": "https://localhost:8080/",
          "height": 221
        },
        "outputId": "3861518a-39f5-4f2b-d96f-e1425e7867ac"
      },
      "source": [
        "# check files\n",
        "!ls"
      ],
      "execution_count": null,
      "outputs": [
        {
          "output_type": "stream",
          "text": [
            "3rdparty\t\tdarknet_video.py       pallet_obj.data\n",
            "backup\t\t\tdata\t\t       pallet_obj.names\n",
            "build\t\t\tGX010108.mp4\t       pallet_yolov4.cfg\n",
            "build.ps1\t\timage_yolov3.sh        README.md\n",
            "build.sh\t\timage_yolov4.sh        results\n",
            "cfg\t\t\tinclude\t\t       scripts\n",
            "cmake\t\t\tjson_mjpeg_streams.sh  src\n",
            "CMakeLists.txt\t\tLICENSE\t\t       video_yolov3.sh\n",
            "darknet\t\t\tMakefile\t       video_yolov4.sh\n",
            "DarknetConfig.cmake.in\tnet_cam_v3.sh\t       yolov4_best.weights\n",
            "darknet_images.py\tnet_cam_v4.sh\t       yolov4.weights\n",
            "darknet.py\t\tobj\n"
          ],
          "name": "stdout"
        }
      ]
    },
    {
      "cell_type": "code",
      "metadata": {
        "id": "LWEqZ6JuAI4f",
        "colab_type": "code",
        "colab": {}
      },
      "source": [
        "# make inference here\n",
        "!./darknet detector demo your_obj.data your_yolov4.cfg your_yolov4_best.weights -dont_show YOUR_Video.mp4 -i 0 -out_filename validation_results.avi"
      ],
      "execution_count": 6,
      "outputs": []
    },
    {
      "cell_type": "code",
      "metadata": {
        "id": "TDMkWa2DGMY-",
        "colab_type": "code",
        "colab": {}
      },
      "source": [
        "# add a threhold flag to show only detections with a confidence that is above the threhold\n",
        "!./darknet detector demo your_obj.data your_yolov4.cfg your_yolov4_best.weights -thresh 0.60 -dont_show YOUR_Video.mp4 -i 0 -out_filename validation_results_thred60.avi"
      ],
      "execution_count": 7,
      "outputs": []
    }
  ]
}